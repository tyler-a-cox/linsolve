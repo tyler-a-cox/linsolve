{
 "cells": [
  {
   "cell_type": "code",
   "execution_count": 185,
   "id": "8beb5350",
   "metadata": {},
   "outputs": [
    {
     "name": "stdout",
     "output_type": "stream",
     "text": [
      "The line_profiler extension is already loaded. To reload it, use:\n",
      "  %reload_ext line_profiler\n"
     ]
    }
   ],
   "source": [
    "import linsolve\n",
    "import tf_linsolve\n",
    "import tensorflow as tf\n",
    "import scipy\n",
    "import numpy as np\n",
    "import pylab as plt\n",
    "%load_ext line_profiler"
   ]
  },
  {
   "cell_type": "markdown",
   "id": "6b576602",
   "metadata": {},
   "source": [
    "## Methods"
   ]
  },
  {
   "cell_type": "markdown",
   "id": "70b26a3f",
   "metadata": {},
   "source": [
    "Here, I'll develop some methods to replace the solvers in linsolve assuming that the inputs are tensors"
   ]
  },
  {
   "cell_type": "markdown",
   "id": "dedc258e",
   "metadata": {},
   "source": [
    "### Solvers Dense"
   ]
  },
  {
   "cell_type": "code",
   "execution_count": 44,
   "id": "a5598d3d",
   "metadata": {},
   "outputs": [],
   "source": [
    "# This could help with repeated calls, but increases the runtime for single usage\n",
    "#@tf.function\n",
    "def _invert_lsqr(A, y, rcond=0, sparse=False):\n",
    "    \"\"\"\n",
    "    \n",
    "    rcond: \n",
    "        rcond must be set to 0 to work for complex datasets\n",
    "    \"\"\"\n",
    "    dtype = y.dtype\n",
    "    assert not (\n",
    "        dtype in [np.complex128, np.complex64, complex] and rcond > 0\n",
    "    ), \"If using complex data, rcond must be equal to 0 for performance reasons\"\n",
    "\n",
    "    x = tf.linalg.lstsq(\n",
    "        tf.transpose(A, perm=[2, 0, 1]),\n",
    "        tf.transpose(y)[..., None],\n",
    "        l2_regularizer=rcond,\n",
    "    )[..., 0]\n",
    "    return x\n",
    "\n",
    "def _invert_lsqr_sparse(xs_ys_vals, y, rcond):\n",
    "    \"\"\"\n",
    "    \"\"\"\n",
    "    A = _get_A_sparse(xs_ys_vals)\n",
    "    return _invert_lsqr(A, y, rcond, sparse=True)\n",
    "\n",
    "# This could help with repeated calls, but increases the runtime for single usage\n",
    "#@tf.function\n",
    "def _invert_pinv(A, y, rcond, sparse=False):\n",
    "    \"\"\"\n",
    "    \"\"\"\n",
    "    dtype = y.dtype\n",
    "    A = tf.transpose(A, perm=[2, 0, 1])\n",
    "    AtA = tf.matmul(A, A, adjoint_a=True, a_is_sparse=sparse, b_is_sparse=sparse)\n",
    "\n",
    "    if dtype in [complex, np.complex64, np.complex128]:\n",
    "        # tensorflow does not allow for complex psuedo-inverses. Compute the value manually\n",
    "        R = tf.math.real(AtA)\n",
    "        C = tf.math.imag(AtA)\n",
    "        r0 = tf.matmul(tf.linalg.pinv(R), C)\n",
    "        y11 = tf.linalg.pinv(tf.matmul(C, r0) + R)\n",
    "        y10 = tf.matmul(-r0, y11)\n",
    "        AtAi = tf.cast(tf.complex(y11, y10), dtype=AtA.dtype)\n",
    "\n",
    "    else:\n",
    "        AtAi = tf.linalg.pinv(AtA, rcond=rcond)\n",
    "\n",
    "    return tf.einsum(\n",
    "        \"nij,njk,kn->ni\", AtAi, tf.transpose(A, perm=[0, 2, 1], conjugate=True), y\n",
    "    )\n",
    "\n",
    "\n",
    "def _invert_pinv_sparse(xs_ys_vals, y, rcond):\n",
    "    \"\"\"\n",
    "    \"\"\"\n",
    "    A = _get_A_sparse(xs_ys_vals)\n",
    "    return _invert_pinv(A, y, rcond, sparse=True)\n",
    "\n",
    "# This could help with repeated calls, but increases the runtime for single usage\n",
    "#@tf.function\n",
    "def _invert_solve(A, y, rcond, sparse=False):\n",
    "    \"\"\"\n",
    "    \"\"\"\n",
    "    A = tf.transpose(A, perm=[2, 0, 1])\n",
    "    AtA = tf.matmul(A, A, adjoint_a=True, a_is_sparse=sparse, b_is_sparse=sparse)\n",
    "    Aty = tf.matmul(\n",
    "        tf.transpose(A, perm=[0, 2, 1], conjugate=True),\n",
    "        tf.transpose(y)[..., None],\n",
    "        a_is_sparse=sparse,\n",
    "    )\n",
    "    return tf.linalg.solve(AtA, Aty)[..., 0]\n",
    "\n",
    "def _invert_solve_sparse(xs_ys_vals, y, rcond):\n",
    "    \"\"\"\n",
    "    \"\"\"\n",
    "    A = _get_A_sparse(xs_ys_vals)\n",
    "    return _invert_solve(A, y, rcond, sparse=True)\n",
    "\n",
    "# This could help with repeated calls, but increases the runtime for single usage\n",
    "#@tf.function\n",
    "def _invert_pinv_shared(A, y, rcond, sparse=False):\n",
    "    \"\"\"\n",
    "    \"\"\"\n",
    "    AtA = tf.matmul(A, A, adjoint_a=True, a_is_sparse=sparse, b_is_sparse=sparse)\n",
    "    dtype = AtA.dtype\n",
    "\n",
    "    if dtype in [complex, np.complex64, np.complex128]:\n",
    "        # tensorflow does not allow for complex psuedo-inverses. Compute the value manually\n",
    "        R = tf.math.real(AtA)\n",
    "        C = tf.math.imag(AtA)\n",
    "        r0 = tf.matmul(tf.linalg.pinv(R), C)\n",
    "        y11 = tf.linalg.pinv(tf.matmul(C, r0) + R)\n",
    "        y10 = tf.matmul(-r0, y11)\n",
    "        AtAi = tf.cast(tf.complex(y11, y10), dtype=AtA.dtype)\n",
    "\n",
    "    else:\n",
    "        AtAi = tf.linalg.pinv(AtA, rcond=rcond)\n",
    "        \n",
    "    return tf.transpose(tf.matmul(AtAi, tf.matmul(A, y, adjoint_a=True, a_is_sparse=sparse)))\n",
    "\n",
    "def _invert_pinv_shared_sparse(xs_ys_vals, y, rcond):\n",
    "    \"\"\"\n",
    "    \"\"\"\n",
    "    A = _get_A_sparse(xs_ys_vals)\n",
    "    return _invert_pinv_shared(A, y, rcond, sparse=True)"
   ]
  },
  {
   "cell_type": "code",
   "execution_count": 55,
   "id": "4a4255ef",
   "metadata": {},
   "outputs": [],
   "source": [
    "tf.convert_to_tensor?"
   ]
  },
  {
   "cell_type": "markdown",
   "id": "8d9aedcc",
   "metadata": {},
   "source": [
    "### Helper Methods"
   ]
  },
  {
   "cell_type": "code",
   "execution_count": 45,
   "id": "7a7b088e",
   "metadata": {},
   "outputs": [],
   "source": [
    "def _get_AtA_Aty_sparse(xs_ys_vals, y):\n",
    "    \"\"\"\n",
    "    \"\"\"\n",
    "    pass"
   ]
  },
  {
   "cell_type": "markdown",
   "id": "4de49461",
   "metadata": {},
   "source": [
    "## Standard Linsolve"
   ]
  },
  {
   "cell_type": "markdown",
   "id": "46026a97",
   "metadata": {},
   "source": [
    "### Standard Linsolve Case"
   ]
  },
  {
   "cell_type": "code",
   "execution_count": 35,
   "id": "d4f4ef2b",
   "metadata": {},
   "outputs": [],
   "source": [
    "x = np.linspace(0, 2 * np.pi, 1000)\n",
    "g = np.cos(x) + 1j * np.sin(x)\n",
    "h = np.sin(x) + 1j * np.cos(x)\n",
    "i = x + 1j * x\n",
    "data = {'g + h': g + h, 'g + i': g + i, 'i + h': i + h, 'i + g + h': i + g + h}\n",
    "wgts = {k: np.random.uniform(0.9, 1.1, v.shape[0]) for k, v in data.items()}"
   ]
  },
  {
   "cell_type": "code",
   "execution_count": 36,
   "id": "d235fc16",
   "metadata": {},
   "outputs": [],
   "source": [
    "ls = linsolve.LinearSolver(data)"
   ]
  },
  {
   "cell_type": "code",
   "execution_count": 37,
   "id": "b53a5138",
   "metadata": {},
   "outputs": [],
   "source": [
    "A = ls.get_A()[..., 0]\n",
    "y = ls.get_weighted_data()"
   ]
  },
  {
   "cell_type": "code",
   "execution_count": 38,
   "id": "04114ae2",
   "metadata": {},
   "outputs": [],
   "source": [
    "ATF = tf.convert_to_tensor(A)\n",
    "yTF = tf.constant(y)"
   ]
  },
  {
   "cell_type": "code",
   "execution_count": 39,
   "id": "dcb7a68a",
   "metadata": {},
   "outputs": [
    {
     "name": "stdout",
     "output_type": "stream",
     "text": [
      "CPU times: user 2.84 ms, sys: 1.46 ms, total: 4.3 ms\n",
      "Wall time: 2.94 ms\n"
     ]
    }
   ],
   "source": [
    "%time ma = _invert_pinv_shared(ATF, yTF, rcond=None)"
   ]
  },
  {
   "cell_type": "code",
   "execution_count": 40,
   "id": "2d5948df",
   "metadata": {},
   "outputs": [
    {
     "name": "stdout",
     "output_type": "stream",
     "text": [
      "CPU times: user 2.9 ms, sys: 2.92 ms, total: 5.82 ms\n",
      "Wall time: 1.75 ms\n"
     ]
    }
   ],
   "source": [
    "%time s = ls.solve()"
   ]
  },
  {
   "cell_type": "markdown",
   "id": "4379fecb",
   "metadata": {},
   "source": [
    "#### Profile"
   ]
  },
  {
   "cell_type": "code",
   "execution_count": 41,
   "id": "bca27114",
   "metadata": {},
   "outputs": [],
   "source": [
    "%lprun -f _invert_pinv_shared _invert_pinv_shared(ATF, yTF, rcond=None)"
   ]
  },
  {
   "cell_type": "markdown",
   "id": "f367c8f5",
   "metadata": {},
   "source": [
    "### Least-Squares Case"
   ]
  },
  {
   "cell_type": "code",
   "execution_count": 46,
   "id": "2f5092bc",
   "metadata": {},
   "outputs": [],
   "source": [
    "ls = linsolve.LinearSolver(data, wgts=wgts)\n",
    "ATF = tf.convert_to_tensor(ls.get_A())\n",
    "yTF = tf.convert_to_tensor(ls.get_weighted_data())"
   ]
  },
  {
   "cell_type": "code",
   "execution_count": 53,
   "id": "9efff8e0",
   "metadata": {},
   "outputs": [
    {
     "name": "stdout",
     "output_type": "stream",
     "text": [
      "CPU times: user 3.62 ms, sys: 1.27 ms, total: 4.89 ms\n",
      "Wall time: 2.43 ms\n"
     ]
    }
   ],
   "source": [
    "%time sol = _invert_lsqr(ATF, yTF, rcond=0)"
   ]
  },
  {
   "cell_type": "code",
   "execution_count": 54,
   "id": "54a6cb01",
   "metadata": {},
   "outputs": [
    {
     "name": "stdout",
     "output_type": "stream",
     "text": [
      "CPU times: user 40.5 ms, sys: 5.64 ms, total: 46.1 ms\n",
      "Wall time: 41.3 ms\n"
     ]
    }
   ],
   "source": [
    "%time solution = ls.solve(mode='lsqr')"
   ]
  },
  {
   "cell_type": "code",
   "execution_count": 89,
   "id": "86420183",
   "metadata": {},
   "outputs": [
    {
     "data": {
      "image/png": "[encoded data removed]",
      "text/plain": [
       "<Figure size 720x432 with 1 Axes>"
      ]
     },
     "metadata": {
      "needs_background": "light"
     },
     "output_type": "display_data"
    }
   ],
   "source": [
    "plt.figure(figsize=(10, 6))\n",
    "plt.plot(np.abs(solution['g'] - sol[..., 0]))\n",
    "plt.plot(np.abs(solution['h'] - sol[..., 1]))\n",
    "plt.plot(np.abs(solution['i'] - sol[..., 2]))\n",
    "plt.show()"
   ]
  },
  {
   "cell_type": "markdown",
   "id": "35877acc",
   "metadata": {},
   "source": [
    "#### Profiling"
   ]
  },
  {
   "cell_type": "code",
   "execution_count": 90,
   "id": "9be8cd5b",
   "metadata": {},
   "outputs": [],
   "source": [
    "%lprun -f _invert_lsqr _invert_lsqr(ATF, yTF, rcond=0)"
   ]
  },
  {
   "cell_type": "markdown",
   "id": "bd074028",
   "metadata": {},
   "source": [
    "### Psuedo-inverse"
   ]
  },
  {
   "cell_type": "code",
   "execution_count": 91,
   "id": "33c7cb4e",
   "metadata": {},
   "outputs": [
    {
     "name": "stdout",
     "output_type": "stream",
     "text": [
      "CPU times: user 139 ms, sys: 19 ms, total: 158 ms\n",
      "Wall time: 25.1 ms\n"
     ]
    }
   ],
   "source": [
    "%time solution = _invert_pinv(ATF, yTF, rcond=None)"
   ]
  },
  {
   "cell_type": "code",
   "execution_count": 92,
   "id": "69270048",
   "metadata": {},
   "outputs": [
    {
     "name": "stdout",
     "output_type": "stream",
     "text": [
      "CPU times: user 196 ms, sys: 34.7 ms, total: 231 ms\n",
      "Wall time: 74.8 ms\n"
     ]
    }
   ],
   "source": [
    "%time sol = ls.solve()"
   ]
  },
  {
   "cell_type": "markdown",
   "id": "34cf9951",
   "metadata": {},
   "source": [
    "#### Profiling"
   ]
  },
  {
   "cell_type": "code",
   "execution_count": 93,
   "id": "1d1da191",
   "metadata": {},
   "outputs": [],
   "source": [
    "%lprun -f _invert_pinv _invert_pinv(ATF, yTF, rcond=None)"
   ]
  },
  {
   "cell_type": "markdown",
   "id": "cd9e408e",
   "metadata": {},
   "source": [
    "### Solve"
   ]
  },
  {
   "cell_type": "code",
   "execution_count": 94,
   "id": "7206f898",
   "metadata": {},
   "outputs": [
    {
     "name": "stdout",
     "output_type": "stream",
     "text": [
      "CPU times: user 37.6 ms, sys: 2 ms, total: 39.6 ms\n",
      "Wall time: 7.94 ms\n"
     ]
    }
   ],
   "source": [
    "%time _ = _invert_solve(ATF, yTF, 0)"
   ]
  },
  {
   "cell_type": "code",
   "execution_count": 95,
   "id": "01483843",
   "metadata": {},
   "outputs": [
    {
     "name": "stdout",
     "output_type": "stream",
     "text": [
      "CPU times: user 72.1 ms, sys: 5.21 ms, total: 77.3 ms\n",
      "Wall time: 76.3 ms\n"
     ]
    }
   ],
   "source": [
    "%time sol = ls.solve(mode='solve')"
   ]
  },
  {
   "cell_type": "markdown",
   "id": "106a113d",
   "metadata": {},
   "source": [
    "#### Profiling"
   ]
  },
  {
   "cell_type": "code",
   "execution_count": 75,
   "id": "e7155d83",
   "metadata": {},
   "outputs": [],
   "source": [
    "%lprun -f _invert_solve _invert_solve(ATF, yTF, rcond=None)"
   ]
  },
  {
   "cell_type": "markdown",
   "id": "446260ba",
   "metadata": {},
   "source": [
    "# Tensorflow Operations"
   ]
  },
  {
   "cell_type": "code",
   "execution_count": 64,
   "id": "5faa0c46",
   "metadata": {},
   "outputs": [],
   "source": [
    "A = np.random.uniform(0, 1, size=(200, 100, 300)) + 1j * np.random.uniform(0, 1, size=(200, 100, 300))\n",
    "ATF = tf.complex(tf.random.uniform((200, 100, 300)), tf.random.uniform((200, 100, 300)))"
   ]
  },
  {
   "cell_type": "markdown",
   "id": "bac2c060",
   "metadata": {},
   "source": [
    "## Conjugation"
   ]
  },
  {
   "cell_type": "code",
   "execution_count": 77,
   "id": "9a4ba38a",
   "metadata": {},
   "outputs": [
    {
     "name": "stdout",
     "output_type": "stream",
     "text": [
      "CPU times: user 18.3 ms, sys: 4.04 ms, total: 22.3 ms\n",
      "Wall time: 20.9 ms\n"
     ]
    }
   ],
   "source": [
    "%%time\n",
    "_ = A.conj()"
   ]
  },
  {
   "cell_type": "code",
   "execution_count": 78,
   "id": "25e2de12",
   "metadata": {},
   "outputs": [
    {
     "name": "stdout",
     "output_type": "stream",
     "text": [
      "CPU times: user 54 ms, sys: 7.93 ms, total: 62 ms\n",
      "Wall time: 12.6 ms\n"
     ]
    }
   ],
   "source": [
    "%%time\n",
    "_ = tf.math.conj(ATF)"
   ]
  },
  {
   "cell_type": "markdown",
   "id": "33569095",
   "metadata": {},
   "source": [
    "## Transpose"
   ]
  },
  {
   "cell_type": "code",
   "execution_count": 101,
   "id": "debda78d",
   "metadata": {},
   "outputs": [
    {
     "name": "stdout",
     "output_type": "stream",
     "text": [
      "CPU times: user 65.5 ms, sys: 943 µs, total: 66.4 ms\n",
      "Wall time: 6.99 ms\n"
     ]
    }
   ],
   "source": [
    "%%time\n",
    "_ = tf.einsum(\"ijk...->ikj...\", ATF)"
   ]
  },
  {
   "cell_type": "code",
   "execution_count": 102,
   "id": "c9a80a0c",
   "metadata": {},
   "outputs": [
    {
     "name": "stdout",
     "output_type": "stream",
     "text": [
      "CPU times: user 66.2 ms, sys: 5.13 ms, total: 71.3 ms\n",
      "Wall time: 11.6 ms\n"
     ]
    }
   ],
   "source": [
    "%%time\n",
    "_ = tf.transpose(ATF, perm=[0, 2, 1])"
   ]
  },
  {
   "cell_type": "code",
   "execution_count": 103,
   "id": "8a4b3238",
   "metadata": {},
   "outputs": [
    {
     "name": "stdout",
     "output_type": "stream",
     "text": [
      "CPU times: user 258 µs, sys: 3.44 ms, total: 3.69 ms\n",
      "Wall time: 3.7 ms\n"
     ]
    }
   ],
   "source": [
    "%%time\n",
    "_ = tf.reshape(ATF, (200, 300, 100))"
   ]
  },
  {
   "cell_type": "code",
   "execution_count": 104,
   "id": "eb05a5d7",
   "metadata": {},
   "outputs": [
    {
     "name": "stdout",
     "output_type": "stream",
     "text": [
      "CPU times: user 69.2 ms, sys: 6.17 ms, total: 75.4 ms\n",
      "Wall time: 11.5 ms\n"
     ]
    }
   ],
   "source": [
    "%%time\n",
    "G = tf.linalg.matrix_transpose(ATF)"
   ]
  },
  {
   "cell_type": "code",
   "execution_count": 112,
   "id": "58428e6d",
   "metadata": {},
   "outputs": [],
   "source": [
    "G = tf.constant(G)"
   ]
  },
  {
   "cell_type": "code",
   "execution_count": 120,
   "id": "5bd7b887",
   "metadata": {},
   "outputs": [
    {
     "name": "stdout",
     "output_type": "stream",
     "text": [
      "CPU times: user 39.2 ms, sys: 1.8 ms, total: 41 ms\n",
      "Wall time: 8.54 ms\n"
     ]
    }
   ],
   "source": [
    "%%time\n",
    "_ = tf.einsum('ijk,ijl->ij', G, G)"
   ]
  },
  {
   "cell_type": "code",
   "execution_count": 121,
   "id": "f9dfee6a",
   "metadata": {},
   "outputs": [
    {
     "name": "stdout",
     "output_type": "stream",
     "text": [
      "CPU times: user 38.5 ms, sys: 6.51 ms, total: 45 ms\n",
      "Wall time: 8.57 ms\n"
     ]
    }
   ],
   "source": [
    "%%time\n",
    "_ = tf.einsum('ijk,ijl->ji', G, G)"
   ]
  },
  {
   "cell_type": "code",
   "execution_count": 124,
   "id": "42a19ba1",
   "metadata": {},
   "outputs": [],
   "source": [
    "tf.linalg.solve?"
   ]
  },
  {
   "cell_type": "code",
   "execution_count": 153,
   "id": "512cea8c",
   "metadata": {},
   "outputs": [],
   "source": [
    "A = tf.random.uniform((1000, 100, 100))\n",
    "y = tf.random.uniform((1000, 100, 20))"
   ]
  },
  {
   "cell_type": "code",
   "execution_count": 154,
   "id": "92205176",
   "metadata": {},
   "outputs": [
    {
     "name": "stdout",
     "output_type": "stream",
     "text": [
      "18.7 ms ± 680 µs per loop (mean ± std. dev. of 7 runs, 100 loops each)\n"
     ]
    }
   ],
   "source": [
    "%%timeit\n",
    "_ = tf.linalg.solve(A, y)"
   ]
  },
  {
   "cell_type": "code",
   "execution_count": 155,
   "id": "32e5f5ef",
   "metadata": {},
   "outputs": [
    {
     "name": "stdout",
     "output_type": "stream",
     "text": [
      "24.2 ms ± 3.56 ms per loop (mean ± std. dev. of 7 runs, 10 loops each)\n"
     ]
    }
   ],
   "source": [
    "%%timeit\n",
    "_ = tf.transpose(tf.linalg.solve(A, y))"
   ]
  },
  {
   "cell_type": "code",
   "execution_count": 180,
   "id": "0298fcce",
   "metadata": {},
   "outputs": [],
   "source": [
    "@tf.function\n",
    "def function(A):\n",
    "    \"\"\"\n",
    "    \"\"\"\n",
    "    return result(A)\n",
    "\n",
    "@tf.function\n",
    "def function_graph(A):\n",
    "    \"\"\"\n",
    "    \"\"\"\n",
    "    return result_graph(A)\n",
    "\n",
    "def function_no_opt(A):\n",
    "    \"\"\"\n",
    "    \"\"\"\n",
    "    return result_no_opt(A)\n",
    "\n",
    "def result(A):\n",
    "    \"\"\"\n",
    "    \"\"\"\n",
    "    return tf.matmul(A, A, transpose_a=True)\n",
    "\n",
    "@tf.function\n",
    "def result_graph(A):\n",
    "    \"\"\"\n",
    "    \"\"\"\n",
    "    return tf.matmul(A, A, transpose_a=True)\n",
    "\n",
    "def result_no_opt(A):\n",
    "    \"\"\"\n",
    "    \"\"\"\n",
    "    return tf.matmul(A, A, transpose_a=True)"
   ]
  },
  {
   "cell_type": "code",
   "execution_count": 181,
   "id": "61624925",
   "metadata": {},
   "outputs": [],
   "source": [
    "A = tf.random.uniform((5000, 1000))"
   ]
  },
  {
   "cell_type": "code",
   "execution_count": 182,
   "id": "52a0d894",
   "metadata": {},
   "outputs": [
    {
     "name": "stdout",
     "output_type": "stream",
     "text": [
      "20.3 ms ± 1.36 ms per loop (mean ± std. dev. of 7 runs, 100 loops each)\n"
     ]
    }
   ],
   "source": [
    "%timeit _ = function(A)"
   ]
  },
  {
   "cell_type": "code",
   "execution_count": 183,
   "id": "68a0707a",
   "metadata": {},
   "outputs": [
    {
     "name": "stdout",
     "output_type": "stream",
     "text": [
      "20.3 ms ± 224 µs per loop (mean ± std. dev. of 7 runs, 10 loops each)\n"
     ]
    }
   ],
   "source": [
    "%timeit _ = function_graph(A)"
   ]
  },
  {
   "cell_type": "code",
   "execution_count": 184,
   "id": "9738fe4d",
   "metadata": {},
   "outputs": [
    {
     "name": "stdout",
     "output_type": "stream",
     "text": [
      "21.4 ms ± 1.04 ms per loop (mean ± std. dev. of 7 runs, 10 loops each)\n"
     ]
    }
   ],
   "source": [
    "%timeit _ = function_no_opt(A)"
   ]
  },
  {
   "cell_type": "code",
   "execution_count": null,
   "id": "89aaa9a4",
   "metadata": {},
   "outputs": [],
   "source": []
  }
 ],
 "metadata": {
  "kernelspec": {
   "display_name": "Python 3",
   "language": "python",
   "name": "python3"
  },
  "language_info": {
   "codemirror_mode": {
    "name": "ipython",
    "version": 3
   },
   "file_extension": ".py",
   "mimetype": "text/x-python",
   "name": "python",
   "nbconvert_exporter": "python",
   "pygments_lexer": "ipython3",
   "version": "3.8.8"
  },
  "toc": {
   "base_numbering": 1,
   "nav_menu": {},
   "number_sections": true,
   "sideBar": true,
   "skip_h1_title": false,
   "title_cell": "Table of Contents",
   "title_sidebar": "Contents",
   "toc_cell": false,
   "toc_position": {},
   "toc_section_display": true,
   "toc_window_display": false
  }
 },
 "nbformat": 4,
 "nbformat_minor": 5
}
