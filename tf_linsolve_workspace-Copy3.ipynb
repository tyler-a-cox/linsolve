{
 "cells": [
  {
   "cell_type": "code",
   "execution_count": 22,
   "id": "992a5da8",
   "metadata": {},
   "outputs": [
    {
     "name": "stdout",
     "output_type": "stream",
     "text": [
      "The line_profiler extension is already loaded. To reload it, use:\n",
      "  %reload_ext line_profiler\n",
      "The snakeviz extension is already loaded. To reload it, use:\n",
      "  %reload_ext snakeviz\n"
     ]
    }
   ],
   "source": [
    "import linsolve\n",
    "import tf_linsolve\n",
    "import scipy\n",
    "import tensorflow as tf\n",
    "import numpy as np\n",
    "import pylab as plt\n",
    "from copy import deepcopy\n",
    "%load_ext line_profiler\n",
    "%load_ext snakeviz\n",
    "\n",
    "from hera_cal import utils\n",
    "from hera_cal.redcal import RedundantCalibrator, get_reds, make_sol_finite, calibrate_in_place, redundantly_calibrate\n",
    "from hera_sim.antpos import hex_array\n",
    "from hera_sim.vis import sim_red_data\n",
    "\n",
    "from hera_cal.redcal import redcal_iteration\n",
    "\n",
    "from tqdm import tqdm\n",
    "import itertools\n",
    "\n",
    "from uvtools.utils import FFT"
   ]
  },
  {
   "cell_type": "code",
   "execution_count": 2,
   "id": "401e160a",
   "metadata": {},
   "outputs": [],
   "source": [
    "def powerspectra(data, taper='blackman-harris'):\n",
    "    \"\"\"\n",
    "    \"\"\"\n",
    "    return np.abs(FFT(data, taper=taper))"
   ]
  },
  {
   "cell_type": "markdown",
   "id": "1e6a9ba3",
   "metadata": {},
   "source": [
    "## Realistic Example"
   ]
  },
  {
   "cell_type": "code",
   "execution_count": 23,
   "id": "5f19ee54",
   "metadata": {},
   "outputs": [],
   "source": [
    "f = np.load('../profiling/zen.2458098.27465.sum.corrupt.npz', allow_pickle=True)\n",
    "data = dict(f['data'].tolist())\n",
    "wgts = dict(f['wgts'].tolist())\n",
    "freqs = f['freqs']\n",
    "antpos = dict(f['antpos'].tolist())\n",
    "reds = get_reds(antpos)"
   ]
  },
  {
   "cell_type": "code",
   "execution_count": 24,
   "id": "c9960d0c",
   "metadata": {},
   "outputs": [],
   "source": [
    "info_new = tf_linsolve.redcal.RedundantCalibrator(reds)\n",
    "info = RedundantCalibrator(reds)"
   ]
  },
  {
   "cell_type": "code",
   "execution_count": 14,
   "id": "2b1e6587",
   "metadata": {},
   "outputs": [],
   "source": [
    "def firstcal_new(data, freqs, i=100):\n",
    "    \"\"\"\n",
    "    \"\"\"\n",
    "    meta, sol0_new = info_new.firstcal(data, freqs, max_grps=i, min_vis_per_ant=None)\n",
    "    \n",
    "def firstcal(data, freqs):\n",
    "    \"\"\"\n",
    "    \"\"\"\n",
    "    meta, sol0 = info.firstcal(data, freqs)"
   ]
  },
  {
   "cell_type": "code",
   "execution_count": 32,
   "id": "479c2de9",
   "metadata": {},
   "outputs": [],
   "source": [
    "from tf_linsolve.redcal import fft_dly_new, interp_peak_new"
   ]
  },
  {
   "cell_type": "code",
   "execution_count": 52,
   "id": "e24ee0e6",
   "metadata": {},
   "outputs": [],
   "source": [
    "def newrun(data, freqs, wgts):\n",
    "    \"\"\"\n",
    "    \"\"\"\n",
    "    meta, sol0_new = info_new.firstcal(data, freqs, max_grps=10, min_vis_per_ant=None)\n",
    "    meta, log_sol_new = info_new.logcal(data, sol0=sol0_new)\n",
    "    meta, sol_new = info_new.omnical(data, log_sol_new, wgts=wgts, maxiter=500)\n",
    "    return meta, sol0_new, log_sol_new, sol_new\n",
    "    \n",
    "def redcalrun(data, freqs, wgts):\n",
    "    \"\"\"\n",
    "    \"\"\"\n",
    "    meta, sol0 = info.firstcal(data, freqs)\n",
    "    meta, log_sol = info.logcal(data, sol0=sol0)\n",
    "    meta, sol = info.omnical(data, log_sol, wgts=wgts, maxiter=500)"
   ]
  },
  {
   "cell_type": "code",
   "execution_count": 53,
   "id": "1ba0c81e",
   "metadata": {},
   "outputs": [
    {
     "name": "stdout",
     "output_type": "stream",
     "text": [
      " \n",
      "*** Profile stats marshalled to file '/var/folders/kv/bmmfw089255d48342x5bshcw0000gn/T/tmpzvkrltc2'. \n",
      "Opening SnakeViz in a new tab...\n"
     ]
    }
   ],
   "source": [
    "%%snakeviz -t\n",
    "_ = newrun(data, freqs, wgts)"
   ]
  },
  {
   "cell_type": "code",
   "execution_count": 16,
   "id": "e573eea2",
   "metadata": {},
   "outputs": [
    {
     "name": "stdout",
     "output_type": "stream",
     "text": [
      " \n",
      "*** Profile stats marshalled to file '/var/folders/kv/bmmfw089255d48342x5bshcw0000gn/T/tmptxqqrebw'. \n",
      "Opening SnakeViz in a new tab...\n"
     ]
    }
   ],
   "source": [
    "%%snakeviz -t\n",
    "_ = firstcal(data, freqs)"
   ]
  },
  {
   "cell_type": "code",
   "execution_count": 38,
   "id": "835a30d0",
   "metadata": {},
   "outputs": [],
   "source": [
    "d = {k: v[:1, :] for k, v in data.items()} "
   ]
  },
  {
   "cell_type": "code",
   "execution_count": 46,
   "id": "e3605e15",
   "metadata": {},
   "outputs": [],
   "source": [
    "%lprun -f info_new._firstcal_iteration info_new._firstcal_iteration(d, np.diff(freqs)[0], freqs[0], max_grps=100)\n"
   ]
  },
  {
   "cell_type": "code",
   "execution_count": 47,
   "id": "059868c9",
   "metadata": {},
   "outputs": [],
   "source": [
    "%lprun -f info._firstcal_iteration info._firstcal_iteration(d, np.diff(freqs)[0], freqs[0])"
   ]
  },
  {
   "cell_type": "code",
   "execution_count": null,
   "id": "db692c92",
   "metadata": {},
   "outputs": [],
   "source": []
  }
 ],
 "metadata": {
  "kernelspec": {
   "display_name": "Python 3",
   "language": "python",
   "name": "python3"
  },
  "language_info": {
   "codemirror_mode": {
    "name": "ipython",
    "version": 3
   },
   "file_extension": ".py",
   "mimetype": "text/x-python",
   "name": "python",
   "nbconvert_exporter": "python",
   "pygments_lexer": "ipython3",
   "version": "3.8.8"
  },
  "toc": {
   "base_numbering": 1,
   "nav_menu": {},
   "number_sections": true,
   "sideBar": true,
   "skip_h1_title": false,
   "title_cell": "Table of Contents",
   "title_sidebar": "Contents",
   "toc_cell": false,
   "toc_position": {},
   "toc_section_display": true,
   "toc_window_display": false
  }
 },
 "nbformat": 4,
 "nbformat_minor": 5
}
